{
 "cells": [
  {
   "cell_type": "code",
   "execution_count": null,
   "id": "b2d1fb21-87ab-4fe1-b551-6fc5fe826ba6",
   "metadata": {},
   "outputs": [],
   "source": []
  }
 ],
 "metadata": {
  "kernelspec": {
   "display_name": "",
   "name": ""
  },
  "language_info": {
   "name": ""
  }
 },
 "nbformat": 4,
 "nbformat_minor": 5
}
