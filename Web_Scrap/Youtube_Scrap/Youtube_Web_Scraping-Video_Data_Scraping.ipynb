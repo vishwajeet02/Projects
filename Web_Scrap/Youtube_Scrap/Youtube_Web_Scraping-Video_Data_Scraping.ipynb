{
 "cells": [
  {
   "cell_type": "code",
   "execution_count": 1,
   "id": "3f59fac2-6d66-4f81-bd50-c5d5e0d0803b",
   "metadata": {},
   "outputs": [],
   "source": [
    "import time\n",
    "import numpy as np\n",
    "import pandas as pd\n",
    "from bs4 import BeautifulSoup\n",
    "from tqdm import tqdm\n",
    "\n",
    "from selenium import webdriver\n",
    "from selenium.webdriver.chrome.service import Service\n",
    "import chromedriver_binary"
   ]
  },
  {
   "cell_type": "code",
   "execution_count": 2,
   "id": "a88f4cde-4969-40d8-8ea9-111ed46123da",
   "metadata": {},
   "outputs": [],
   "source": [
    "service = Service(chromedriver_binary.chromedriver_filename)"
   ]
  },
  {
   "cell_type": "code",
   "execution_count": 3,
   "id": "2ac67f3b-1fef-411f-ac4e-1f9a679878d6",
   "metadata": {},
   "outputs": [
    {
     "data": {
      "text/html": [
       "<div>\n",
       "<style scoped>\n",
       "    .dataframe tbody tr th:only-of-type {\n",
       "        vertical-align: middle;\n",
       "    }\n",
       "\n",
       "    .dataframe tbody tr th {\n",
       "        vertical-align: top;\n",
       "    }\n",
       "\n",
       "    .dataframe thead th {\n",
       "        text-align: right;\n",
       "    }\n",
       "</style>\n",
       "<table border=\"1\" class=\"dataframe\">\n",
       "  <thead>\n",
       "    <tr style=\"text-align: right;\">\n",
       "      <th></th>\n",
       "      <th>title</th>\n",
       "      <th>views</th>\n",
       "      <th>date_time</th>\n",
       "      <th>video_link</th>\n",
       "      <th>thumbnail_link</th>\n",
       "    </tr>\n",
       "  </thead>\n",
       "  <tbody>\n",
       "    <tr>\n",
       "      <th>0</th>\n",
       "      <td>Binary Trees Explained in 4 Minutes!</td>\n",
       "      <td>1.7K views</td>\n",
       "      <td>5 days ago</td>\n",
       "      <td>/watch?v=Um_sAan1LO4</td>\n",
       "      <td>https://i.ytimg.com/vi/Um_sAan1LO4/hqdefault.jpg</td>\n",
       "    </tr>\n",
       "    <tr>\n",
       "      <th>1</th>\n",
       "      <td>Dynamic Programming Explained in 6 Minutes</td>\n",
       "      <td>4.3K views</td>\n",
       "      <td>1 month ago</td>\n",
       "      <td>/watch?v=ByIhiLNbahY</td>\n",
       "      <td>https://i.ytimg.com/vi/ByIhiLNbahY/hqdefault.jpg</td>\n",
       "    </tr>\n",
       "    <tr>\n",
       "      <th>2</th>\n",
       "      <td>I went to IIT Delhi to meet Gate AIR 20 | Crac...</td>\n",
       "      <td>1.8K views</td>\n",
       "      <td>1 month ago</td>\n",
       "      <td>/watch?v=ZSan8vrbWfw</td>\n",
       "      <td>https://i.ytimg.com/vi/ZSan8vrbWfw/hqdefault.jpg</td>\n",
       "    </tr>\n",
       "    <tr>\n",
       "      <th>3</th>\n",
       "      <td>Struggling with GATE? We can help boost your r...</td>\n",
       "      <td>940 views</td>\n",
       "      <td>1 month ago</td>\n",
       "      <td>/watch?v=xgHQyBP9gDM</td>\n",
       "      <td>https://i.ytimg.com/vi/xgHQyBP9gDM/hqdefault.jpg</td>\n",
       "    </tr>\n",
       "    <tr>\n",
       "      <th>4</th>\n",
       "      <td>What do Software Engineers Really Do? | Are so...</td>\n",
       "      <td>9.3K views</td>\n",
       "      <td>1 month ago</td>\n",
       "      <td>/watch?v=rg7B6QH7RZA</td>\n",
       "      <td>https://i.ytimg.com/vi/rg7B6QH7RZA/hqdefault.jpg</td>\n",
       "    </tr>\n",
       "  </tbody>\n",
       "</table>\n",
       "</div>"
      ],
      "text/plain": [
       "                                               title       views    date_time  \\\n",
       "0               Binary Trees Explained in 4 Minutes!  1.7K views   5 days ago   \n",
       "1         Dynamic Programming Explained in 6 Minutes  4.3K views  1 month ago   \n",
       "2  I went to IIT Delhi to meet Gate AIR 20 | Crac...  1.8K views  1 month ago   \n",
       "3  Struggling with GATE? We can help boost your r...   940 views  1 month ago   \n",
       "4  What do Software Engineers Really Do? | Are so...  9.3K views  1 month ago   \n",
       "\n",
       "             video_link                                    thumbnail_link  \n",
       "0  /watch?v=Um_sAan1LO4  https://i.ytimg.com/vi/Um_sAan1LO4/hqdefault.jpg  \n",
       "1  /watch?v=ByIhiLNbahY  https://i.ytimg.com/vi/ByIhiLNbahY/hqdefault.jpg  \n",
       "2  /watch?v=ZSan8vrbWfw  https://i.ytimg.com/vi/ZSan8vrbWfw/hqdefault.jpg  \n",
       "3  /watch?v=xgHQyBP9gDM  https://i.ytimg.com/vi/xgHQyBP9gDM/hqdefault.jpg  \n",
       "4  /watch?v=rg7B6QH7RZA  https://i.ytimg.com/vi/rg7B6QH7RZA/hqdefault.jpg  "
      ]
     },
     "execution_count": 3,
     "metadata": {},
     "output_type": "execute_result"
    }
   ],
   "source": [
    "df = pd.read_csv('data.csv')\n",
    "df.head()"
   ]
  },
  {
   "cell_type": "code",
   "execution_count": 7,
   "id": "b0aeff53-9868-463e-8426-d9fb7babc145",
   "metadata": {},
   "outputs": [
    {
     "name": "stderr",
     "output_type": "stream",
     "text": [
      "  0%|                                                                                          | 0/436 [00:04<?, ?it/s]\n"
     ]
    }
   ],
   "source": [
    "driver = webdriver.Chrome(service = service)\n",
    "\n",
    "for link in tqdm(df['video_link']):\n",
    "    link = 'https://www.youtube.com' + link\n",
    "    driver.get(link)\n",
    "    \n",
    "    break\n",
    "    "
   ]
  },
  {
   "cell_type": "code",
   "execution_count": null,
   "id": "600fef03-4cb7-4e1c-a19f-cb262e296f2e",
   "metadata": {},
   "outputs": [],
   "source": []
  }
 ],
 "metadata": {
  "kernelspec": {
   "display_name": "Python 3 (ipykernel)",
   "language": "python",
   "name": "python3"
  },
  "language_info": {
   "codemirror_mode": {
    "name": "ipython",
    "version": 3
   },
   "file_extension": ".py",
   "mimetype": "text/x-python",
   "name": "python",
   "nbconvert_exporter": "python",
   "pygments_lexer": "ipython3",
   "version": "3.12.5"
  }
 },
 "nbformat": 4,
 "nbformat_minor": 5
}
