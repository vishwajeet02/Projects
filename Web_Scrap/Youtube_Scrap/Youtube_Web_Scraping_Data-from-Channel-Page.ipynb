{
 "cells": [
  {
   "cell_type": "code",
   "execution_count": 1,
   "id": "b386f5e1-c596-4e68-8b4e-6a979ecfb503",
   "metadata": {},
   "outputs": [],
   "source": [
    "import numpy as np\n",
    "import pandas as pd\n",
    "\n",
    "from bs4 import BeautifulSoup\n",
    "from selenium import webdriver\n",
    "from selenium.webdriver.chrome.service import Service\n",
    "import chromedriver_binary"
   ]
  },
  {
   "cell_type": "code",
   "execution_count": 2,
   "id": "55afca09-4042-41cb-baf8-5c7e05bfda44",
   "metadata": {},
   "outputs": [],
   "source": [
    "service = Service(chromedriver_binary.chromedriver_filename)"
   ]
  },
  {
   "cell_type": "code",
   "execution_count": 3,
   "id": "11656598-f505-40cd-ac2c-2697bdca4eca",
   "metadata": {},
   "outputs": [],
   "source": [
    "driver = webdriver.Chrome(service = service)\n",
    "driver.get('https://www.youtube.com/c/GeeksforGeeksVideos/videos')"
   ]
  },
  {
   "cell_type": "code",
   "execution_count": 15,
   "id": "316e4639-556a-4b83-8b7b-f25df6a418dc",
   "metadata": {},
   "outputs": [],
   "source": [
    "soup = BeautifulSoup(driver.page_source,'html.parser')"
   ]
  },
  {
   "cell_type": "code",
   "execution_count": 23,
   "id": "b3dd927b-4df5-4c3d-b5ae-191a2e0bda59",
   "metadata": {},
   "outputs": [],
   "source": [
    "data = []\n",
    "\n",
    "for sp in soup.find_all('ytd-rich-item-renderer'):\n",
    "    title = sp.find('a',class_ = 'yt-simple-endpoint focus-on-expand style-scope ytd-rich-grid-media').text\n",
    "    video_link  = sp.find('a',class_ = 'yt-simple-endpoint focus-on-expand style-scope ytd-rich-grid-media').get('href')\n",
    "    try:\n",
    "        views = sp.find_all('span',class_='inline-metadata-item style-scope ytd-video-meta-block')[0].text\n",
    "    except:\n",
    "        views = np.nan\n",
    "\n",
    "    try:\n",
    "        date_time = sp.find_all('span',class_='inline-metadata-item style-scope ytd-video-meta-block')[1].text\n",
    "    except:\n",
    "        date_time = np.nan\n",
    "\n",
    "    try:\n",
    "        thumbnail_link = sp.find('img').get('src').split('?')[0]\n",
    "    except:\n",
    "        thumbnail_link = np.nan\n",
    "        \n",
    "    data.append([title, views, date_time, video_link, thumbnail_link])"
   ]
  },
  {
   "cell_type": "code",
   "execution_count": 24,
   "id": "b1c9d589-b0fb-4622-98aa-eec5d90dc785",
   "metadata": {},
   "outputs": [
    {
     "data": {
      "text/plain": [
       "436"
      ]
     },
     "execution_count": 24,
     "metadata": {},
     "output_type": "execute_result"
    }
   ],
   "source": [
    "len(data)"
   ]
  },
  {
   "cell_type": "code",
   "execution_count": 25,
   "id": "3ad2fc44-68d7-487e-8284-5204e9b9e3e0",
   "metadata": {},
   "outputs": [
    {
     "data": {
      "text/plain": [
       "['Binary Trees Explained in 4 Minutes!',\n",
       " '1.7K views',\n",
       " '5 days ago',\n",
       " '/watch?v=Um_sAan1LO4',\n",
       " 'https://i.ytimg.com/vi/Um_sAan1LO4/hqdefault.jpg']"
      ]
     },
     "execution_count": 25,
     "metadata": {},
     "output_type": "execute_result"
    }
   ],
   "source": [
    "data[0]"
   ]
  },
  {
   "cell_type": "code",
   "execution_count": 26,
   "id": "230e79a7-e970-4861-b716-1a823c2cdfde",
   "metadata": {},
   "outputs": [],
   "source": [
    "df = pd.DataFrame(data,columns = ['title','views','date_time','video_link','thumbnail_link'])"
   ]
  },
  {
   "cell_type": "code",
   "execution_count": 27,
   "id": "ca1115bf-e75a-4e4d-8f8f-95337d872f64",
   "metadata": {},
   "outputs": [
    {
     "data": {
      "text/html": [
       "<div>\n",
       "<style scoped>\n",
       "    .dataframe tbody tr th:only-of-type {\n",
       "        vertical-align: middle;\n",
       "    }\n",
       "\n",
       "    .dataframe tbody tr th {\n",
       "        vertical-align: top;\n",
       "    }\n",
       "\n",
       "    .dataframe thead th {\n",
       "        text-align: right;\n",
       "    }\n",
       "</style>\n",
       "<table border=\"1\" class=\"dataframe\">\n",
       "  <thead>\n",
       "    <tr style=\"text-align: right;\">\n",
       "      <th></th>\n",
       "      <th>title</th>\n",
       "      <th>views</th>\n",
       "      <th>date_time</th>\n",
       "      <th>video_link</th>\n",
       "      <th>thumbnail_link</th>\n",
       "    </tr>\n",
       "  </thead>\n",
       "  <tbody>\n",
       "    <tr>\n",
       "      <th>0</th>\n",
       "      <td>Binary Trees Explained in 4 Minutes!</td>\n",
       "      <td>1.7K views</td>\n",
       "      <td>5 days ago</td>\n",
       "      <td>/watch?v=Um_sAan1LO4</td>\n",
       "      <td>https://i.ytimg.com/vi/Um_sAan1LO4/hqdefault.jpg</td>\n",
       "    </tr>\n",
       "    <tr>\n",
       "      <th>1</th>\n",
       "      <td>Dynamic Programming Explained in 6 Minutes</td>\n",
       "      <td>4.3K views</td>\n",
       "      <td>1 month ago</td>\n",
       "      <td>/watch?v=ByIhiLNbahY</td>\n",
       "      <td>https://i.ytimg.com/vi/ByIhiLNbahY/hqdefault.jpg</td>\n",
       "    </tr>\n",
       "    <tr>\n",
       "      <th>2</th>\n",
       "      <td>I went to IIT Delhi to meet Gate AIR 20 | Crac...</td>\n",
       "      <td>1.8K views</td>\n",
       "      <td>1 month ago</td>\n",
       "      <td>/watch?v=ZSan8vrbWfw</td>\n",
       "      <td>https://i.ytimg.com/vi/ZSan8vrbWfw/hqdefault.jpg</td>\n",
       "    </tr>\n",
       "    <tr>\n",
       "      <th>3</th>\n",
       "      <td>Struggling with GATE? We can help boost your r...</td>\n",
       "      <td>940 views</td>\n",
       "      <td>1 month ago</td>\n",
       "      <td>/watch?v=xgHQyBP9gDM</td>\n",
       "      <td>https://i.ytimg.com/vi/xgHQyBP9gDM/hqdefault.jpg</td>\n",
       "    </tr>\n",
       "    <tr>\n",
       "      <th>4</th>\n",
       "      <td>What do Software Engineers Really Do? | Are so...</td>\n",
       "      <td>9.3K views</td>\n",
       "      <td>1 month ago</td>\n",
       "      <td>/watch?v=rg7B6QH7RZA</td>\n",
       "      <td>https://i.ytimg.com/vi/rg7B6QH7RZA/hqdefault.jpg</td>\n",
       "    </tr>\n",
       "  </tbody>\n",
       "</table>\n",
       "</div>"
      ],
      "text/plain": [
       "                                               title       views    date_time  \\\n",
       "0               Binary Trees Explained in 4 Minutes!  1.7K views   5 days ago   \n",
       "1         Dynamic Programming Explained in 6 Minutes  4.3K views  1 month ago   \n",
       "2  I went to IIT Delhi to meet Gate AIR 20 | Crac...  1.8K views  1 month ago   \n",
       "3  Struggling with GATE? We can help boost your r...   940 views  1 month ago   \n",
       "4  What do Software Engineers Really Do? | Are so...  9.3K views  1 month ago   \n",
       "\n",
       "             video_link                                    thumbnail_link  \n",
       "0  /watch?v=Um_sAan1LO4  https://i.ytimg.com/vi/Um_sAan1LO4/hqdefault.jpg  \n",
       "1  /watch?v=ByIhiLNbahY  https://i.ytimg.com/vi/ByIhiLNbahY/hqdefault.jpg  \n",
       "2  /watch?v=ZSan8vrbWfw  https://i.ytimg.com/vi/ZSan8vrbWfw/hqdefault.jpg  \n",
       "3  /watch?v=xgHQyBP9gDM  https://i.ytimg.com/vi/xgHQyBP9gDM/hqdefault.jpg  \n",
       "4  /watch?v=rg7B6QH7RZA  https://i.ytimg.com/vi/rg7B6QH7RZA/hqdefault.jpg  "
      ]
     },
     "execution_count": 27,
     "metadata": {},
     "output_type": "execute_result"
    }
   ],
   "source": [
    "df.head()"
   ]
  },
  {
   "cell_type": "code",
   "execution_count": 28,
   "id": "ff2825f9-5c7a-4ec8-9442-e6f1c94d40ac",
   "metadata": {},
   "outputs": [
    {
     "data": {
      "text/plain": [
       "title              0\n",
       "views              0\n",
       "date_time          0\n",
       "video_link         0\n",
       "thumbnail_link    16\n",
       "dtype: int64"
      ]
     },
     "execution_count": 28,
     "metadata": {},
     "output_type": "execute_result"
    }
   ],
   "source": [
    "df.isnull().sum()"
   ]
  },
  {
   "cell_type": "code",
   "execution_count": 29,
   "id": "b87a05af-d447-4552-9139-c5ca4182d26f",
   "metadata": {},
   "outputs": [],
   "source": [
    "df.to_csv('data.csv',index = False)"
   ]
  },
  {
   "cell_type": "code",
   "execution_count": null,
   "id": "de3aa06e-9c7e-470b-9f3d-fce75169a571",
   "metadata": {},
   "outputs": [],
   "source": []
  }
 ],
 "metadata": {
  "kernelspec": {
   "display_name": "Python 3 (ipykernel)",
   "language": "python",
   "name": "python3"
  },
  "language_info": {
   "codemirror_mode": {
    "name": "ipython",
    "version": 3
   },
   "file_extension": ".py",
   "mimetype": "text/x-python",
   "name": "python",
   "nbconvert_exporter": "python",
   "pygments_lexer": "ipython3",
   "version": "3.12.5"
  }
 },
 "nbformat": 4,
 "nbformat_minor": 5
}
