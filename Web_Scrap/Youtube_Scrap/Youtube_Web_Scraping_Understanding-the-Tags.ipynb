{
 "cells": [
  {
   "cell_type": "code",
   "execution_count": 1,
   "id": "223a2a83-cf6a-4f83-b8a7-d6f544eb77ce",
   "metadata": {},
   "outputs": [],
   "source": [
    "from bs4 import BeautifulSoup\n",
    "from selenium import webdriver\n",
    "from selenium.webdriver.chrome.service import Service\n",
    "import chromedriver_binary"
   ]
  },
  {
   "cell_type": "code",
   "execution_count": 2,
   "id": "484f27a7-400f-45ca-a617-e15a1894032c",
   "metadata": {},
   "outputs": [],
   "source": [
    "service = Service(chromedriver_binary.chromedriver_filename)"
   ]
  },
  {
   "cell_type": "code",
   "execution_count": 3,
   "id": "cf9c207e-f870-4546-93db-ed6902130b19",
   "metadata": {},
   "outputs": [],
   "source": [
    "driver = webdriver.Chrome(service = service)\n",
    "driver.get('https://www.youtube.com/c/GeeksforGeeksVideos/videos')"
   ]
  },
  {
   "cell_type": "code",
   "execution_count": 4,
   "id": "c283627d-fcce-40e7-9d1d-5da3855b7837",
   "metadata": {},
   "outputs": [],
   "source": [
    "soup = BeautifulSoup(driver.page_source,'html.parser')"
   ]
  },
  {
   "cell_type": "code",
   "execution_count": 5,
   "id": "d600987d-5198-4d6d-bb53-cb06223afa64",
   "metadata": {},
   "outputs": [
    {
     "name": "stdout",
     "output_type": "stream",
     "text": [
      "GeeksforGeeks - YouTube•\n",
      "NaN / NaN\n",
      "      Back\n",
      "    \n",
      "  IN\n",
      "Skip navigation\n",
      "        Search\n",
      "        Search with your voiceSign in\n",
      "  IN\n",
      "Home  \n",
      "    Home\n",
      "  \n",
      "Shorts  \n",
      "    Shorts\n",
      "  \n",
      "Subscriptions  \n",
      "    Subscriptions\n",
      "  \n",
      "You  \n",
      "    You\n",
      "  \n",
      "History  \n",
      "    History\n",
      "  GeeksforGeeks@GeeksforGeeksVideos•955K subscribers•3.4K videosWelcome to the Official Channel of GeekforGeeks, your one-stop destination for diverse tech education! ...more...moregfgcdn.com/tu/U2land 4 more linksSubscribe\n",
      "HomeVideosShortsLiveCoursesPlaylistsPosts\n",
      "   \n",
      "Search\n",
      "   PreviousLatestLatest\n",
      "PopularPopular\n",
      "OldestOldest  Next\n",
      "4:05\n",
      "    4:05\n",
      "  Now playing4:05\n",
      "4:05\n",
      "    4:05\n",
      "  Now playingBinary Trees Explained in 4 Minutes!\n",
      "•\n",
      "•\n",
      "1.7K views\n",
      "5 days ago\n",
      "6:38\n",
      "    6:38\n",
      "  Now playing6:38\n",
      "6:38\n",
      "    6:38\n",
      "  Now playingDynamic Programming Explained in 6 Minutes\n",
      "•\n",
      "•\n",
      "4.3K views\n",
      "1 month ago\n",
      "41:45\n",
      "    41:45\n",
      "  Now playing41:45\n",
      "41:45\n",
      "    41:45\n",
      "  Now playingI went to IIT Delhi to meet Gate AIR 20 | Crack GATE with GeeksforGeeks!\n",
      "•\n",
      "•\n",
      "1.8K views\n",
      "1 month ago\n",
      "2:26\n",
      "    2:26\n",
      "  Now playing2:26\n",
      "2:26\n",
      "    2:26\n",
      "  Now playingStruggling with GATE? We can help boost your rank!\n",
      "•\n",
      "•\n",
      "938 views\n",
      "1 month ago\n",
      "6:24\n",
      "    6:24\n",
      "  Now playing6:24\n",
      "6:24\n",
      "    6:24\n",
      "  Now playingWhat do Software Engineers Really Do? | Are software engineering jobs really for you?\n",
      "•\n",
      "•\n",
      "9.3K views\n",
      "1 month ago\n",
      "7:03\n",
      "    7:03\n",
      "  Now playing7:03\n",
      "7:03\n",
      "    7:03\n",
      "  Now playingGet 55+ Marks Easily in GATE CS 2026 using this strategy\n",
      "•\n",
      "•\n",
      "35K views\n",
      "1 month ago\n"
     ]
    }
   ],
   "source": [
    "print(soup.text.replace('\\n\\n',''))"
   ]
  },
  {
   "cell_type": "code",
   "execution_count": 8,
   "id": "4c8b2cc7-e019-42ab-b259-04547457853c",
   "metadata": {},
   "outputs": [],
   "source": [
    "sp = soup.find('ytd-rich-grid-renderer')"
   ]
  },
  {
   "cell_type": "code",
   "execution_count": 9,
   "id": "582d759f-2cc8-46b1-aacf-1a3cc65ff002",
   "metadata": {},
   "outputs": [
    {
     "data": {
      "text/plain": [
       "6"
      ]
     },
     "execution_count": 9,
     "metadata": {},
     "output_type": "execute_result"
    }
   ],
   "source": [
    "len(sp.find_all('ytd-rich-item-renderer'))"
   ]
  },
  {
   "cell_type": "code",
   "execution_count": null,
   "id": "0c27c3f1-1e76-4935-a9c3-365c2dbf9fec",
   "metadata": {},
   "outputs": [],
   "source": []
  }
 ],
 "metadata": {
  "kernelspec": {
   "display_name": "Python 3 (ipykernel)",
   "language": "python",
   "name": "python3"
  },
  "language_info": {
   "codemirror_mode": {
    "name": "ipython",
    "version": 3
   },
   "file_extension": ".py",
   "mimetype": "text/x-python",
   "name": "python",
   "nbconvert_exporter": "python",
   "pygments_lexer": "ipython3",
   "version": "3.12.5"
  }
 },
 "nbformat": 4,
 "nbformat_minor": 5
}
