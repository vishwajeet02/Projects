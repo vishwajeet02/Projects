{
 "cells": [
  {
   "cell_type": "code",
   "execution_count": 1,
   "id": "d44c8850-10f0-42f1-b3a5-eb05520f229d",
   "metadata": {},
   "outputs": [],
   "source": [
    "import time\n",
    "from tqdm import tqdm\n",
    "import pandas as pd\n",
    "import requests\n",
    "\n",
    "from bs4 import BeautifulSoup\n",
    "from selenium import webdriver\n",
    "from selenium.webdriver.chrome.service import Service\n",
    "import chromedriver_binary"
   ]
  },
  {
   "cell_type": "code",
   "execution_count": 2,
   "id": "b00e099b-2b41-4d61-87e2-2591e327f1b9",
   "metadata": {},
   "outputs": [],
   "source": [
    "link = 'https://stock-pictures.netlify.app'"
   ]
  },
  {
   "cell_type": "code",
   "execution_count": 3,
   "id": "332ad0b5-5aeb-4f05-b535-d3f2393e02f4",
   "metadata": {},
   "outputs": [],
   "source": [
    "service = Service(chromedriver_binary.chromedriver_filename)\n",
    "\n",
    "driver = webdriver.Chrome(service = service)\n",
    "driver.get(link)"
   ]
  },
  {
   "cell_type": "markdown",
   "id": "a963fc37-b872-4bc6-8df8-d394ec37b2d1",
   "metadata": {},
   "source": [
    "## 1) Scrolling to reach the buttom"
   ]
  },
  {
   "cell_type": "code",
   "execution_count": 6,
   "id": "1869854e-e417-49bc-8fef-964687badf67",
   "metadata": {},
   "outputs": [
    {
     "name": "stderr",
     "output_type": "stream",
     "text": [
      "100%|██████████████████████████████████████████████████████████████████████████████| 5000/5000 [10:19<00:00,  8.08it/s]\n"
     ]
    }
   ],
   "source": [
    "for i in tqdm(range(0,5000000,1000)):\n",
    "    \n",
    "    driver.execute_script(\"window.scrollTo(0,\"  + str(i) + \")\")\n",
    "    time.sleep(.1)"
   ]
  },
  {
   "cell_type": "markdown",
   "id": "48cb84f2-97ca-4bcd-b47d-1c10738e116a",
   "metadata": {},
   "source": [
    "## 2) Scraping the Page Course"
   ]
  },
  {
   "cell_type": "code",
   "execution_count": 7,
   "id": "9d02a582-971d-4b1a-9b24-0c1a4fe54cac",
   "metadata": {},
   "outputs": [],
   "source": [
    "soup = BeautifulSoup(driver.page_source, 'html.parser')"
   ]
  },
  {
   "cell_type": "markdown",
   "id": "236a46c3-1de3-4c35-8bdd-2995b8f5e5cf",
   "metadata": {},
   "source": [
    "## 3) Checking number of images that has to be scraped"
   ]
  },
  {
   "cell_type": "code",
   "execution_count": 9,
   "id": "f8fda32c-0c9a-4452-8611-1993a8186722",
   "metadata": {},
   "outputs": [
    {
     "data": {
      "text/plain": [
       "9104"
      ]
     },
     "execution_count": 9,
     "metadata": {},
     "output_type": "execute_result"
    }
   ],
   "source": [
    "len(soup.find_all('div',class_ = 'container'))"
   ]
  },
  {
   "cell_type": "markdown",
   "id": "b65afafe-0f5a-48a6-832f-170217476d2e",
   "metadata": {},
   "source": [
    "## 4) Scraping the Image Details"
   ]
  },
  {
   "cell_type": "code",
   "execution_count": 10,
   "id": "9614cedc-6b03-4f7b-8723-150d2485c518",
   "metadata": {},
   "outputs": [
    {
     "name": "stderr",
     "output_type": "stream",
     "text": [
      "100%|███████████████████████████████████████████████████████████████████████████| 9104/9104 [00:00<00:00, 10535.37it/s]\n"
     ]
    }
   ],
   "source": [
    "data = []\n",
    "\n",
    "for sp in tqdm(soup.find_all('div',class_ = 'container')):\n",
    "    image_link = sp.find('img').get('src')\n",
    "    tags = sp.find('div',class_ = 'tags').text[7:].split(',')\n",
    "    likes = sp.find('div',class_ = 'likes-comments').find_all('span')[0].text[:-6]\n",
    "    comments = sp.find('div',class_ = 'likes-comments').find_all('span')[1].text[:-10]\n",
    "\n",
    "    data.append([image_link,' '.join(tags),likes,comments])"
   ]
  },
  {
   "cell_type": "markdown",
   "id": "fa6cdc67-af57-4833-866c-9f2069650212",
   "metadata": {},
   "source": [
    "## 5) Saving data in a DataFrame"
   ]
  },
  {
   "cell_type": "code",
   "execution_count": 11,
   "id": "5141af7d-6a80-4c20-82a5-7964ac81e2b9",
   "metadata": {},
   "outputs": [
    {
     "data": {
      "text/html": [
       "<div>\n",
       "<style scoped>\n",
       "    .dataframe tbody tr th:only-of-type {\n",
       "        vertical-align: middle;\n",
       "    }\n",
       "\n",
       "    .dataframe tbody tr th {\n",
       "        vertical-align: top;\n",
       "    }\n",
       "\n",
       "    .dataframe thead th {\n",
       "        text-align: right;\n",
       "    }\n",
       "</style>\n",
       "<table border=\"1\" class=\"dataframe\">\n",
       "  <thead>\n",
       "    <tr style=\"text-align: right;\">\n",
       "      <th></th>\n",
       "      <th>img_link</th>\n",
       "      <th>tags</th>\n",
       "      <th>likes</th>\n",
       "      <th>comments</th>\n",
       "    </tr>\n",
       "  </thead>\n",
       "  <tbody>\n",
       "    <tr>\n",
       "      <th>0</th>\n",
       "      <td>https://cdn.pixabay.com/photo/2022/03/06/05/30...</td>\n",
       "      <td>Clouds  Sky  Atmosphere  Blue Sky</td>\n",
       "      <td>196</td>\n",
       "      <td>55</td>\n",
       "    </tr>\n",
       "    <tr>\n",
       "      <th>1</th>\n",
       "      <td>https://cdn.pixabay.com/photo/2022/04/07/11/45...</td>\n",
       "      <td>Bird  Ornithology  Hummingbird</td>\n",
       "      <td>76</td>\n",
       "      <td>20</td>\n",
       "    </tr>\n",
       "    <tr>\n",
       "      <th>2</th>\n",
       "      <td>https://cdn.pixabay.com/photo/2022/02/28/15/28...</td>\n",
       "      <td>Sea  Rainbow  Rainfall  Subtropical</td>\n",
       "      <td>282</td>\n",
       "      <td>106</td>\n",
       "    </tr>\n",
       "    <tr>\n",
       "      <th>3</th>\n",
       "      <td>https://cdn.pixabay.com/photo/2022/04/04/02/52...</td>\n",
       "      <td>Cherry Blossoms  Road  Japan  Sakura</td>\n",
       "      <td>42</td>\n",
       "      <td>11</td>\n",
       "    </tr>\n",
       "    <tr>\n",
       "      <th>4</th>\n",
       "      <td>https://cdn.pixabay.com/photo/2022/04/09/18/06...</td>\n",
       "      <td>Cape Marguerite  Flower  Plant</td>\n",
       "      <td>39</td>\n",
       "      <td>15</td>\n",
       "    </tr>\n",
       "  </tbody>\n",
       "</table>\n",
       "</div>"
      ],
      "text/plain": [
       "                                            img_link  \\\n",
       "0  https://cdn.pixabay.com/photo/2022/03/06/05/30...   \n",
       "1  https://cdn.pixabay.com/photo/2022/04/07/11/45...   \n",
       "2  https://cdn.pixabay.com/photo/2022/02/28/15/28...   \n",
       "3  https://cdn.pixabay.com/photo/2022/04/04/02/52...   \n",
       "4  https://cdn.pixabay.com/photo/2022/04/09/18/06...   \n",
       "\n",
       "                                   tags likes comments  \n",
       "0     Clouds  Sky  Atmosphere  Blue Sky   196       55  \n",
       "1        Bird  Ornithology  Hummingbird    76       20  \n",
       "2   Sea  Rainbow  Rainfall  Subtropical   282      106  \n",
       "3  Cherry Blossoms  Road  Japan  Sakura    42       11  \n",
       "4        Cape Marguerite  Flower  Plant    39       15  "
      ]
     },
     "execution_count": 11,
     "metadata": {},
     "output_type": "execute_result"
    }
   ],
   "source": [
    "df = pd.DataFrame(data, columns = ['img_link', 'tags', 'likes', 'comments'])\n",
    "\n",
    "df.head()"
   ]
  },
  {
   "cell_type": "code",
   "execution_count": 12,
   "id": "d13c0c42-c821-4cd1-98c2-229424bbf52c",
   "metadata": {},
   "outputs": [
    {
     "data": {
      "text/plain": [
       "(9104, 4)"
      ]
     },
     "execution_count": 12,
     "metadata": {},
     "output_type": "execute_result"
    }
   ],
   "source": [
    "df.shape"
   ]
  },
  {
   "cell_type": "markdown",
   "id": "2dc6bdad-2e43-4878-9102-dc658a0cbf1a",
   "metadata": {},
   "source": [
    "## 6) Checking Null Values"
   ]
  },
  {
   "cell_type": "code",
   "execution_count": 13,
   "id": "3234fbf7-00b8-4f86-8ab9-18365e97ddb4",
   "metadata": {},
   "outputs": [
    {
     "data": {
      "text/plain": [
       "img_link    0\n",
       "tags        0\n",
       "likes       0\n",
       "comments    0\n",
       "dtype: int64"
      ]
     },
     "execution_count": 13,
     "metadata": {},
     "output_type": "execute_result"
    }
   ],
   "source": [
    "df.isnull().sum()"
   ]
  },
  {
   "cell_type": "markdown",
   "id": "4c5b94aa-3dd0-4689-8f39-60bf28dbe55d",
   "metadata": {},
   "source": [
    "## 7) Checking Duplicate Values"
   ]
  },
  {
   "cell_type": "code",
   "execution_count": 14,
   "id": "20e09d8c-491c-4f02-a036-2449e732b874",
   "metadata": {},
   "outputs": [
    {
     "data": {
      "text/plain": [
       "count                                                  9104\n",
       "unique                                                 9088\n",
       "top       https://cdn.pixabay.com/photo/2022/03/06/05/30...\n",
       "freq                                                      2\n",
       "Name: img_link, dtype: object"
      ]
     },
     "execution_count": 14,
     "metadata": {},
     "output_type": "execute_result"
    }
   ],
   "source": [
    "df['img_link'].describe()"
   ]
  },
  {
   "cell_type": "markdown",
   "id": "a646a62b-4d0a-4f1e-9626-b5222671c4a3",
   "metadata": {},
   "source": [
    "## 8) Removing Duplicate Values"
   ]
  },
  {
   "cell_type": "code",
   "execution_count": 15,
   "id": "fc7ede0b-2c80-4f3d-808d-c8336a7767af",
   "metadata": {},
   "outputs": [],
   "source": [
    "df = df.drop_duplicates()"
   ]
  },
  {
   "cell_type": "markdown",
   "id": "07d00deb-8922-42b1-90d7-9e1d2524cef6",
   "metadata": {},
   "source": [
    "## 9) Saving the DataFrame as CSV"
   ]
  },
  {
   "cell_type": "code",
   "execution_count": 16,
   "id": "bb3ba296-0a77-42c2-89cd-b91e0d24b5e1",
   "metadata": {},
   "outputs": [],
   "source": [
    "df.to_csv('images.csv')"
   ]
  },
  {
   "cell_type": "code",
   "execution_count": null,
   "id": "056698d7-77c3-4363-9894-aa27841445db",
   "metadata": {},
   "outputs": [],
   "source": []
  }
 ],
 "metadata": {
  "kernelspec": {
   "display_name": "Python 3 (ipykernel)",
   "language": "python",
   "name": "python3"
  },
  "language_info": {
   "codemirror_mode": {
    "name": "ipython",
    "version": 3
   },
   "file_extension": ".py",
   "mimetype": "text/x-python",
   "name": "python",
   "nbconvert_exporter": "python",
   "pygments_lexer": "ipython3",
   "version": "3.12.5"
  }
 },
 "nbformat": 4,
 "nbformat_minor": 5
}
