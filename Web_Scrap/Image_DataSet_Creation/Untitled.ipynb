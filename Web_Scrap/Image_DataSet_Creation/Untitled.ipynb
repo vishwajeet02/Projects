{
 "cells": [
  {
   "cell_type": "code",
   "execution_count": null,
   "id": "ba80f8aa-0d8f-4e41-be20-91cb8c052af5",
   "metadata": {},
   "outputs": [],
   "source": []
  }
 ],
 "metadata": {
  "kernelspec": {
   "display_name": "",
   "name": ""
  },
  "language_info": {
   "name": ""
  }
 },
 "nbformat": 4,
 "nbformat_minor": 5
}
