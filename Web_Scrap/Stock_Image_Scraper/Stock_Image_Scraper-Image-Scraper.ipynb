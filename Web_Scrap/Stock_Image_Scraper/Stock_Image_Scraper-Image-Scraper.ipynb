{
 "cells": [
  {
   "cell_type": "code",
   "execution_count": 1,
   "id": "0cae88c1-11de-40ae-86a7-3cf1020d75e9",
   "metadata": {},
   "outputs": [
    {
     "data": {
      "text/html": [
       "<div>\n",
       "<style scoped>\n",
       "    .dataframe tbody tr th:only-of-type {\n",
       "        vertical-align: middle;\n",
       "    }\n",
       "\n",
       "    .dataframe tbody tr th {\n",
       "        vertical-align: top;\n",
       "    }\n",
       "\n",
       "    .dataframe thead th {\n",
       "        text-align: right;\n",
       "    }\n",
       "</style>\n",
       "<table border=\"1\" class=\"dataframe\">\n",
       "  <thead>\n",
       "    <tr style=\"text-align: right;\">\n",
       "      <th></th>\n",
       "      <th>links</th>\n",
       "      <th>tags</th>\n",
       "      <th>likes</th>\n",
       "      <th>comments</th>\n",
       "    </tr>\n",
       "  </thead>\n",
       "  <tbody>\n",
       "    <tr>\n",
       "      <th>0</th>\n",
       "      <td>https://cdn.pixabay.com/photo/2022/03/06/05/30...</td>\n",
       "      <td>Clouds  Sky  Atmosphere  Blue Sky</td>\n",
       "      <td>196</td>\n",
       "      <td>55</td>\n",
       "    </tr>\n",
       "    <tr>\n",
       "      <th>1</th>\n",
       "      <td>https://cdn.pixabay.com/photo/2022/04/07/11/45...</td>\n",
       "      <td>Bird  Ornithology  Hummingbird</td>\n",
       "      <td>76</td>\n",
       "      <td>20</td>\n",
       "    </tr>\n",
       "    <tr>\n",
       "      <th>2</th>\n",
       "      <td>https://cdn.pixabay.com/photo/2022/02/28/15/28...</td>\n",
       "      <td>Sea  Rainbow  Rainfall  Subtropical</td>\n",
       "      <td>282</td>\n",
       "      <td>106</td>\n",
       "    </tr>\n",
       "    <tr>\n",
       "      <th>3</th>\n",
       "      <td>https://cdn.pixabay.com/photo/2022/04/04/02/52...</td>\n",
       "      <td>Cherry Blossoms  Road  Japan  Sakura</td>\n",
       "      <td>42</td>\n",
       "      <td>11</td>\n",
       "    </tr>\n",
       "    <tr>\n",
       "      <th>4</th>\n",
       "      <td>https://cdn.pixabay.com/photo/2022/04/09/18/06...</td>\n",
       "      <td>Cape Marguerite  Flower  Plant</td>\n",
       "      <td>39</td>\n",
       "      <td>15</td>\n",
       "    </tr>\n",
       "  </tbody>\n",
       "</table>\n",
       "</div>"
      ],
      "text/plain": [
       "                                               links  \\\n",
       "0  https://cdn.pixabay.com/photo/2022/03/06/05/30...   \n",
       "1  https://cdn.pixabay.com/photo/2022/04/07/11/45...   \n",
       "2  https://cdn.pixabay.com/photo/2022/02/28/15/28...   \n",
       "3  https://cdn.pixabay.com/photo/2022/04/04/02/52...   \n",
       "4  https://cdn.pixabay.com/photo/2022/04/09/18/06...   \n",
       "\n",
       "                                   tags  likes  comments  \n",
       "0     Clouds  Sky  Atmosphere  Blue Sky    196        55  \n",
       "1        Bird  Ornithology  Hummingbird     76        20  \n",
       "2   Sea  Rainbow  Rainfall  Subtropical    282       106  \n",
       "3  Cherry Blossoms  Road  Japan  Sakura     42        11  \n",
       "4        Cape Marguerite  Flower  Plant     39        15  "
      ]
     },
     "execution_count": 1,
     "metadata": {},
     "output_type": "execute_result"
    }
   ],
   "source": [
    "import requests\n",
    "import pandas as pd\n",
    "from tqdm import tqdm\n",
    "\n",
    "df = pd.read_csv('data.csv')\n",
    "\n",
    "df.head()"
   ]
  },
  {
   "cell_type": "code",
   "execution_count": null,
   "id": "fbdcbdf5-6641-47ce-906a-8c0183912c21",
   "metadata": {},
   "outputs": [],
   "source": []
  }
 ],
 "metadata": {
  "kernelspec": {
   "display_name": "Python 3 (ipykernel)",
   "language": "python",
   "name": "python3"
  },
  "language_info": {
   "codemirror_mode": {
    "name": "ipython",
    "version": 3
   },
   "file_extension": ".py",
   "mimetype": "text/x-python",
   "name": "python",
   "nbconvert_exporter": "python",
   "pygments_lexer": "ipython3",
   "version": "3.12.5"
  }
 },
 "nbformat": 4,
 "nbformat_minor": 5
}
