{
 "cells": [
  {
   "cell_type": "code",
   "execution_count": 1,
   "id": "d659b3ed-aeec-499b-9f1f-68efa0671352",
   "metadata": {},
   "outputs": [],
   "source": [
    "import numpy as np\n",
    "import pandas as pd\n",
    "\n",
    "from bs4 import BeautifulSoup\n",
    "from selenium import webdriver\n",
    "from selenium.webdriver.chrome.service import Service\n",
    "import chromedriver_binary"
   ]
  },
  {
   "cell_type": "code",
   "execution_count": 2,
   "id": "38f61aa2-74ec-4dc7-a739-a041d539aba9",
   "metadata": {},
   "outputs": [],
   "source": [
    "link = 'https://stock-pictures.netlify.app'"
   ]
  },
  {
   "cell_type": "code",
   "execution_count": 3,
   "id": "533e954c-0361-4931-89ff-82247f665ece",
   "metadata": {},
   "outputs": [],
   "source": [
    "service = Service(chromedriver_binary.chromedriver_filename)"
   ]
  },
  {
   "cell_type": "code",
   "execution_count": 4,
   "id": "a13836cf-953b-4fa6-a159-fa299fde527d",
   "metadata": {},
   "outputs": [],
   "source": [
    "driver = webdriver.Chrome(service = service)\n",
    "driver.get(link)"
   ]
  },
  {
   "cell_type": "code",
   "execution_count": null,
   "id": "80df2cd4-2ad7-42a9-a570-bcb57406b86c",
   "metadata": {},
   "outputs": [],
   "source": []
  }
 ],
 "metadata": {
  "kernelspec": {
   "display_name": "Python 3 (ipykernel)",
   "language": "python",
   "name": "python3"
  },
  "language_info": {
   "codemirror_mode": {
    "name": "ipython",
    "version": 3
   },
   "file_extension": ".py",
   "mimetype": "text/x-python",
   "name": "python",
   "nbconvert_exporter": "python",
   "pygments_lexer": "ipython3",
   "version": "3.12.5"
  }
 },
 "nbformat": 4,
 "nbformat_minor": 5
}
