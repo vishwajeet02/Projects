{
 "cells": [
  {
   "cell_type": "code",
   "execution_count": 1,
   "id": "716d419a",
   "metadata": {},
   "outputs": [
    {
     "data": {
      "text/html": [
       "<div>\n",
       "<style scoped>\n",
       "    .dataframe tbody tr th:only-of-type {\n",
       "        vertical-align: middle;\n",
       "    }\n",
       "\n",
       "    .dataframe tbody tr th {\n",
       "        vertical-align: top;\n",
       "    }\n",
       "\n",
       "    .dataframe thead th {\n",
       "        text-align: right;\n",
       "    }\n",
       "</style>\n",
       "<table border=\"1\" class=\"dataframe\">\n",
       "  <thead>\n",
       "    <tr style=\"text-align: right;\">\n",
       "      <th></th>\n",
       "      <th>Country Name</th>\n",
       "      <th>Country Code</th>\n",
       "      <th>Year</th>\n",
       "      <th>Value</th>\n",
       "    </tr>\n",
       "  </thead>\n",
       "  <tbody>\n",
       "    <tr>\n",
       "      <th>0</th>\n",
       "      <td>Arab World</td>\n",
       "      <td>ARB</td>\n",
       "      <td>1968</td>\n",
       "      <td>2.576068e+10</td>\n",
       "    </tr>\n",
       "    <tr>\n",
       "      <th>1</th>\n",
       "      <td>Arab World</td>\n",
       "      <td>ARB</td>\n",
       "      <td>1969</td>\n",
       "      <td>2.843420e+10</td>\n",
       "    </tr>\n",
       "    <tr>\n",
       "      <th>2</th>\n",
       "      <td>Arab World</td>\n",
       "      <td>ARB</td>\n",
       "      <td>1970</td>\n",
       "      <td>3.138550e+10</td>\n",
       "    </tr>\n",
       "    <tr>\n",
       "      <th>3</th>\n",
       "      <td>Arab World</td>\n",
       "      <td>ARB</td>\n",
       "      <td>1971</td>\n",
       "      <td>3.642691e+10</td>\n",
       "    </tr>\n",
       "    <tr>\n",
       "      <th>4</th>\n",
       "      <td>Arab World</td>\n",
       "      <td>ARB</td>\n",
       "      <td>1972</td>\n",
       "      <td>4.331606e+10</td>\n",
       "    </tr>\n",
       "  </tbody>\n",
       "</table>\n",
       "</div>"
      ],
      "text/plain": [
       "  Country Name Country Code  Year         Value\n",
       "0   Arab World          ARB  1968  2.576068e+10\n",
       "1   Arab World          ARB  1969  2.843420e+10\n",
       "2   Arab World          ARB  1970  3.138550e+10\n",
       "3   Arab World          ARB  1971  3.642691e+10\n",
       "4   Arab World          ARB  1972  4.331606e+10"
      ]
     },
     "execution_count": 1,
     "metadata": {},
     "output_type": "execute_result"
    }
   ],
   "source": [
    "import pandas as pd\n",
    "\n",
    "df = pd.read_csv('gdp.csv')\n",
    "df.head()"
   ]
  },
  {
   "cell_type": "code",
   "execution_count": 2,
   "id": "ef41438c-6c08-41e3-b97b-2219059d3fb8",
   "metadata": {},
   "outputs": [
    {
     "data": {
      "text/plain": [
       "(11507, 4)"
      ]
     },
     "execution_count": 2,
     "metadata": {},
     "output_type": "execute_result"
    }
   ],
   "source": [
    "df.shape"
   ]
  },
  {
   "cell_type": "code",
   "execution_count": 3,
   "id": "5a58c535-fa5d-4fd8-a70f-e77caf6a73b9",
   "metadata": {},
   "outputs": [
    {
     "name": "stdout",
     "output_type": "stream",
     "text": [
      "<class 'pandas.core.frame.DataFrame'>\n",
      "RangeIndex: 11507 entries, 0 to 11506\n",
      "Data columns (total 4 columns):\n",
      " #   Column        Non-Null Count  Dtype  \n",
      "---  ------        --------------  -----  \n",
      " 0   Country Name  11507 non-null  object \n",
      " 1   Country Code  11507 non-null  object \n",
      " 2   Year          11507 non-null  int64  \n",
      " 3   Value         11507 non-null  float64\n",
      "dtypes: float64(1), int64(1), object(2)\n",
      "memory usage: 359.7+ KB\n"
     ]
    }
   ],
   "source": [
    "df.info()"
   ]
  },
  {
   "cell_type": "markdown",
   "id": "ce572bc8-128a-46e3-a6f5-0760449527dc",
   "metadata": {},
   "source": [
    "## Renaming 2 columns label"
   ]
  },
  {
   "cell_type": "code",
   "execution_count": 8,
   "id": "e39e00b0-6109-4fb8-b0ce-98fba7d6bd85",
   "metadata": {},
   "outputs": [],
   "source": [
    "new_name = {'Country Name':'Country_Name','Country Code':'Country_Code'}\n",
    "df.rename(columns = new_name,inplace = True)"
   ]
  },
  {
   "cell_type": "code",
   "execution_count": 9,
   "id": "07f12948-c640-40dd-85a6-f2401819bb1e",
   "metadata": {},
   "outputs": [
    {
     "data": {
      "text/html": [
       "<div>\n",
       "<style scoped>\n",
       "    .dataframe tbody tr th:only-of-type {\n",
       "        vertical-align: middle;\n",
       "    }\n",
       "\n",
       "    .dataframe tbody tr th {\n",
       "        vertical-align: top;\n",
       "    }\n",
       "\n",
       "    .dataframe thead th {\n",
       "        text-align: right;\n",
       "    }\n",
       "</style>\n",
       "<table border=\"1\" class=\"dataframe\">\n",
       "  <thead>\n",
       "    <tr style=\"text-align: right;\">\n",
       "      <th></th>\n",
       "      <th>Country_Name</th>\n",
       "      <th>Country_Code</th>\n",
       "      <th>Year</th>\n",
       "      <th>Value</th>\n",
       "    </tr>\n",
       "  </thead>\n",
       "  <tbody>\n",
       "    <tr>\n",
       "      <th>0</th>\n",
       "      <td>Arab World</td>\n",
       "      <td>ARB</td>\n",
       "      <td>1968</td>\n",
       "      <td>2.576068e+10</td>\n",
       "    </tr>\n",
       "    <tr>\n",
       "      <th>1</th>\n",
       "      <td>Arab World</td>\n",
       "      <td>ARB</td>\n",
       "      <td>1969</td>\n",
       "      <td>2.843420e+10</td>\n",
       "    </tr>\n",
       "    <tr>\n",
       "      <th>2</th>\n",
       "      <td>Arab World</td>\n",
       "      <td>ARB</td>\n",
       "      <td>1970</td>\n",
       "      <td>3.138550e+10</td>\n",
       "    </tr>\n",
       "    <tr>\n",
       "      <th>3</th>\n",
       "      <td>Arab World</td>\n",
       "      <td>ARB</td>\n",
       "      <td>1971</td>\n",
       "      <td>3.642691e+10</td>\n",
       "    </tr>\n",
       "    <tr>\n",
       "      <th>4</th>\n",
       "      <td>Arab World</td>\n",
       "      <td>ARB</td>\n",
       "      <td>1972</td>\n",
       "      <td>4.331606e+10</td>\n",
       "    </tr>\n",
       "  </tbody>\n",
       "</table>\n",
       "</div>"
      ],
      "text/plain": [
       "  Country_Name Country_Code  Year         Value\n",
       "0   Arab World          ARB  1968  2.576068e+10\n",
       "1   Arab World          ARB  1969  2.843420e+10\n",
       "2   Arab World          ARB  1970  3.138550e+10\n",
       "3   Arab World          ARB  1971  3.642691e+10\n",
       "4   Arab World          ARB  1972  4.331606e+10"
      ]
     },
     "execution_count": 9,
     "metadata": {},
     "output_type": "execute_result"
    }
   ],
   "source": [
    "df.head()"
   ]
  },
  {
   "cell_type": "markdown",
   "id": "29975446-62b0-43c8-bbb2-d6693b369f0f",
   "metadata": {},
   "source": [
    "## Analyzing Each Columns"
   ]
  },
  {
   "cell_type": "code",
   "execution_count": 12,
   "id": "ee9275b4-93d1-4e36-8e59-e42fe9c3a014",
   "metadata": {},
   "outputs": [
    {
     "data": {
      "text/plain": [
       "count                    11507\n",
       "unique                     256\n",
       "top       Hong Kong SAR, China\n",
       "freq                        57\n",
       "Name: Country_Name, dtype: object"
      ]
     },
     "execution_count": 12,
     "metadata": {},
     "output_type": "execute_result"
    }
   ],
   "source": [
    "df['Country_Name'].describe()"
   ]
  },
  {
   "cell_type": "code",
   "execution_count": 13,
   "id": "a6a3298f-1dda-478e-97e5-a042acc359f8",
   "metadata": {},
   "outputs": [
    {
     "data": {
      "text/plain": [
       "count     11507\n",
       "unique      256\n",
       "top         HKG\n",
       "freq         57\n",
       "Name: Country_Code, dtype: object"
      ]
     },
     "execution_count": 13,
     "metadata": {},
     "output_type": "execute_result"
    }
   ],
   "source": [
    "df['Country_Code'].describe()"
   ]
  },
  {
   "cell_type": "code",
   "execution_count": 17,
   "id": "91b2bcc6-72ee-421b-ae9e-b3975634ad07",
   "metadata": {},
   "outputs": [
    {
     "data": {
      "text/plain": [
       "min    1960\n",
       "max    2016\n",
       "Name: Year, dtype: int64"
      ]
     },
     "execution_count": 17,
     "metadata": {},
     "output_type": "execute_result"
    }
   ],
   "source": [
    "df['Year'].agg(['min','max'])"
   ]
  },
  {
   "cell_type": "code",
   "execution_count": 18,
   "id": "18ff30ee-4e65-4b16-aa3d-d6262a9faf3f",
   "metadata": {},
   "outputs": [
    {
     "data": {
      "text/plain": [
       "min    8.824448e+06\n",
       "max    7.904923e+13\n",
       "Name: Value, dtype: float64"
      ]
     },
     "execution_count": 18,
     "metadata": {},
     "output_type": "execute_result"
    }
   ],
   "source": [
    "df['Value'].agg(['min','max'])"
   ]
  },
  {
   "cell_type": "code",
   "execution_count": 22,
   "id": "ba4a6c3c-47e8-4766-a4cf-fe87667346cc",
   "metadata": {},
   "outputs": [
    {
     "name": "stdout",
     "output_type": "stream",
     "text": [
      "True\n"
     ]
    }
   ],
   "source": [
    "print('India' in df['Country_Name'].values)"
   ]
  },
  {
   "cell_type": "markdown",
   "id": "158f5de4",
   "metadata": {},
   "source": [
    "## 1) How many unique Countries Data we're having in the dataset?"
   ]
  },
  {
   "cell_type": "code",
   "execution_count": 19,
   "id": "deb06683",
   "metadata": {},
   "outputs": [
    {
     "data": {
      "text/plain": [
       "256"
      ]
     },
     "execution_count": 19,
     "metadata": {},
     "output_type": "execute_result"
    }
   ],
   "source": [
    "df['Country_Name'].nunique()"
   ]
  },
  {
   "cell_type": "markdown",
   "id": "71c4c9b6",
   "metadata": {},
   "source": [
    "## 2) How many years of Data we're having for India"
   ]
  },
  {
   "cell_type": "code",
   "execution_count": 25,
   "id": "679f2edb",
   "metadata": {},
   "outputs": [
    {
     "data": {
      "text/html": [
       "<div>\n",
       "<style scoped>\n",
       "    .dataframe tbody tr th:only-of-type {\n",
       "        vertical-align: middle;\n",
       "    }\n",
       "\n",
       "    .dataframe tbody tr th {\n",
       "        vertical-align: top;\n",
       "    }\n",
       "\n",
       "    .dataframe thead th {\n",
       "        text-align: right;\n",
       "    }\n",
       "</style>\n",
       "<table border=\"1\" class=\"dataframe\">\n",
       "  <thead>\n",
       "    <tr style=\"text-align: right;\">\n",
       "      <th></th>\n",
       "      <th>Country_Name</th>\n",
       "      <th>Country_Code</th>\n",
       "      <th>Year</th>\n",
       "      <th>Value</th>\n",
       "    </tr>\n",
       "  </thead>\n",
       "  <tbody>\n",
       "    <tr>\n",
       "      <th>6074</th>\n",
       "      <td>India</td>\n",
       "      <td>IND</td>\n",
       "      <td>1960</td>\n",
       "      <td>3.653593e+10</td>\n",
       "    </tr>\n",
       "    <tr>\n",
       "      <th>6075</th>\n",
       "      <td>India</td>\n",
       "      <td>IND</td>\n",
       "      <td>1961</td>\n",
       "      <td>3.870910e+10</td>\n",
       "    </tr>\n",
       "    <tr>\n",
       "      <th>6076</th>\n",
       "      <td>India</td>\n",
       "      <td>IND</td>\n",
       "      <td>1962</td>\n",
       "      <td>4.159907e+10</td>\n",
       "    </tr>\n",
       "    <tr>\n",
       "      <th>6077</th>\n",
       "      <td>India</td>\n",
       "      <td>IND</td>\n",
       "      <td>1963</td>\n",
       "      <td>4.777600e+10</td>\n",
       "    </tr>\n",
       "    <tr>\n",
       "      <th>6078</th>\n",
       "      <td>India</td>\n",
       "      <td>IND</td>\n",
       "      <td>1964</td>\n",
       "      <td>5.572687e+10</td>\n",
       "    </tr>\n",
       "    <tr>\n",
       "      <th>6079</th>\n",
       "      <td>India</td>\n",
       "      <td>IND</td>\n",
       "      <td>1965</td>\n",
       "      <td>5.876042e+10</td>\n",
       "    </tr>\n",
       "  </tbody>\n",
       "</table>\n",
       "</div>"
      ],
      "text/plain": [
       "     Country_Name Country_Code  Year         Value\n",
       "6074        India          IND  1960  3.653593e+10\n",
       "6075        India          IND  1961  3.870910e+10\n",
       "6076        India          IND  1962  4.159907e+10\n",
       "6077        India          IND  1963  4.777600e+10\n",
       "6078        India          IND  1964  5.572687e+10\n",
       "6079        India          IND  1965  5.876042e+10"
      ]
     },
     "execution_count": 25,
     "metadata": {},
     "output_type": "execute_result"
    }
   ],
   "source": [
    "df_temp = df[df['Country_Name']=='India']\n",
    "df_temp.head(6)"
   ]
  },
  {
   "cell_type": "code",
   "execution_count": 26,
   "id": "8ead941c-adaa-4154-ba87-0c2e59d415c7",
   "metadata": {},
   "outputs": [
    {
     "data": {
      "text/plain": [
       "(57, 4)"
      ]
     },
     "execution_count": 26,
     "metadata": {},
     "output_type": "execute_result"
    }
   ],
   "source": [
    "df_temp.shape"
   ]
  },
  {
   "cell_type": "code",
   "execution_count": 27,
   "id": "dafa9b9e-30d2-4178-8d62-65343a7f6032",
   "metadata": {},
   "outputs": [
    {
     "data": {
      "text/plain": [
       "min    1960\n",
       "max    2016\n",
       "Name: Year, dtype: int64"
      ]
     },
     "execution_count": 27,
     "metadata": {},
     "output_type": "execute_result"
    }
   ],
   "source": [
    "df_temp['Year'].agg(['min','max'])"
   ]
  },
  {
   "cell_type": "markdown",
   "id": "6fb83184-338d-435c-afc3-746ea3b12d53",
   "metadata": {},
   "source": [
    "## Analysing India"
   ]
  },
  {
   "cell_type": "code",
   "execution_count": 28,
   "id": "e06e0b88-a929-4a96-9436-777a1d452208",
   "metadata": {},
   "outputs": [
    {
     "data": {
      "text/plain": [
       "<Axes: xlabel='Year', ylabel='GDP'>"
      ]
     },
     "execution_count": 28,
     "metadata": {},
     "output_type": "execute_result"
    },
    {
     "data": {
      "image/png": "[encoded data removed]",
      "text/plain": [
       "<Figure size 1500x600 with 1 Axes>"
      ]
     },
     "metadata": {},
     "output_type": "display_data"
    }
   ],
   "source": [
    "df_temp.plot(kind='line',x='Year',y='Value',figsize=(15,6),grid=True,xlabel=\"Year\",ylabel=\"GDP\")"
   ]
  },
  {
   "cell_type": "code",
   "execution_count": null,
   "id": "a5ccd64e-e351-4fa0-a470-9bbaed809cfc",
   "metadata": {},
   "outputs": [],
   "source": []
  },
  {
   "cell_type": "markdown",
   "id": "c7f00c6a",
   "metadata": {},
   "source": [
    "## 4) Whats the % of GDP growth of India in Year 1994 (*as compare to 1993)?"
   ]
  },
  {
   "cell_type": "code",
   "execution_count": 48,
   "id": "770c312c-7958-40c0-a462-a58ae7057f81",
   "metadata": {},
   "outputs": [
    {
     "name": "stdout",
     "output_type": "stream",
     "text": [
      "275570363432.31 , 322909902308.131\n"
     ]
    }
   ],
   "source": [
    "gdp_1993 = df_temp[df_temp[\"Year\"]==1993][\"Value\"].values[0]\n",
    "gdp_1994 = df_temp[df_temp[\"Year\"]==1994][\"Value\"].values[0]\n",
    "print(gdp_1993,\",\",gdp_1994)"
   ]
  },
  {
   "cell_type": "code",
   "execution_count": 50,
   "id": "7b6b3edf-a0a5-4cb2-8781-f726a3600755",
   "metadata": {},
   "outputs": [
    {
     "name": "stdout",
     "output_type": "stream",
     "text": [
      "17.178748210146075 % growth from last year\n"
     ]
    }
   ],
   "source": [
    "gdp_growth = (gdp_1994-gdp_1993)/gdp_1993*100\n",
    "print(gdp_growth,\"% growth from last year\")"
   ]
  },
  {
   "cell_type": "markdown",
   "id": "b9c80bf7-e8cd-4d93-a27b-97287122ff7d",
   "metadata": {},
   "source": [
    "# Tasks\n",
    "\n",
    "### 1) Find GDP Growth of India from 1960 - 2016"
   ]
  },
  {
   "cell_type": "code",
   "execution_count": 52,
   "id": "4bccf349-091e-4eb6-bd13-62b02c7f558e",
   "metadata": {},
   "outputs": [
    {
     "name": "stdout",
     "output_type": "stream",
     "text": [
      "36535925029.925 , 2263792499341.01\n"
     ]
    }
   ],
   "source": [
    "# One way\n",
    "gdp_1960 = df_temp[df_temp[\"Year\"]==1960][\"Value\"].values[0]\n",
    "gdp_2016 = df_temp[df_temp[\"Year\"]==2016][\"Value\"].values[0]\n",
    "print(gdp_1960,\",\",gdp_2016)"
   ]
  },
  {
   "cell_type": "code",
   "execution_count": 55,
   "id": "08f567bf-0f81-45c0-81c0-605623b3ba62",
   "metadata": {},
   "outputs": [
    {
     "name": "stdout",
     "output_type": "stream",
     "text": [
      "6096.072762594173 % growth of india from 1960-2016\n"
     ]
    }
   ],
   "source": [
    "gdp_growth2 = (gdp_2016-gdp_1960)/gdp_1960*100\n",
    "print(gdp_growth2,\"% growth of india from 1960-2016\")"
   ]
  },
  {
   "cell_type": "markdown",
   "id": "e63e5389-fa4b-400e-9d51-d340d59f16e8",
   "metadata": {},
   "source": [
    "### Finding GDP Growth of a INDIA"
   ]
  },
  {
   "cell_type": "code",
   "execution_count": 75,
   "id": "7ec3a106-c0f3-41c5-82ce-024564027222",
   "metadata": {},
   "outputs": [],
   "source": [
    "# Convert DataFrame to a NumPy array for row-wise access\n",
    "data = df_temp.values \n",
    "\n",
    "# Initialize list with 0 for the first year (no growth possible without a prior year)\n",
    "gdp_change = [0]\n",
    "\n",
    "# Loop through data starting from the second row (index 1) to calculate growth percentages\n",
    "for i in range(1, len(data)):\n",
    "    prev = data[i-1][3]  # GDP value of the previous year (column index 3)\n",
    "    curr = data[i][3]    # GDP value of the current year (column index 3)\n",
    "    # Calculate percentage change: ((current - previous) / previous) * 100, rounded to 2 decimals\n",
    "    gdp_change.append(round((curr - prev) / prev * 100, 2))\n",
    "\n",
    "# Add the GDP growth percentages as a new column named 'GDP' to the DataFrame\n",
    "df_temp = df_temp.assign(GDP=gdp_change)"
   ]
  },
  {
   "cell_type": "code",
   "execution_count": 76,
   "id": "529d7201-c1e9-4425-89a9-d5b87aa9071e",
   "metadata": {},
   "outputs": [
    {
     "data": {
      "text/html": [
       "<div>\n",
       "<style scoped>\n",
       "    .dataframe tbody tr th:only-of-type {\n",
       "        vertical-align: middle;\n",
       "    }\n",
       "\n",
       "    .dataframe tbody tr th {\n",
       "        vertical-align: top;\n",
       "    }\n",
       "\n",
       "    .dataframe thead th {\n",
       "        text-align: right;\n",
       "    }\n",
       "</style>\n",
       "<table border=\"1\" class=\"dataframe\">\n",
       "  <thead>\n",
       "    <tr style=\"text-align: right;\">\n",
       "      <th></th>\n",
       "      <th>Country_Name</th>\n",
       "      <th>Country_Code</th>\n",
       "      <th>Year</th>\n",
       "      <th>Value</th>\n",
       "      <th>GDP</th>\n",
       "    </tr>\n",
       "  </thead>\n",
       "  <tbody>\n",
       "    <tr>\n",
       "      <th>6074</th>\n",
       "      <td>India</td>\n",
       "      <td>IND</td>\n",
       "      <td>1960</td>\n",
       "      <td>3.653593e+10</td>\n",
       "      <td>0.00</td>\n",
       "    </tr>\n",
       "    <tr>\n",
       "      <th>6075</th>\n",
       "      <td>India</td>\n",
       "      <td>IND</td>\n",
       "      <td>1961</td>\n",
       "      <td>3.870910e+10</td>\n",
       "      <td>5.95</td>\n",
       "    </tr>\n",
       "    <tr>\n",
       "      <th>6076</th>\n",
       "      <td>India</td>\n",
       "      <td>IND</td>\n",
       "      <td>1962</td>\n",
       "      <td>4.159907e+10</td>\n",
       "      <td>7.47</td>\n",
       "    </tr>\n",
       "    <tr>\n",
       "      <th>6077</th>\n",
       "      <td>India</td>\n",
       "      <td>IND</td>\n",
       "      <td>1963</td>\n",
       "      <td>4.777600e+10</td>\n",
       "      <td>14.85</td>\n",
       "    </tr>\n",
       "    <tr>\n",
       "      <th>6078</th>\n",
       "      <td>India</td>\n",
       "      <td>IND</td>\n",
       "      <td>1964</td>\n",
       "      <td>5.572687e+10</td>\n",
       "      <td>16.64</td>\n",
       "    </tr>\n",
       "  </tbody>\n",
       "</table>\n",
       "</div>"
      ],
      "text/plain": [
       "     Country_Name Country_Code  Year         Value    GDP\n",
       "6074        India          IND  1960  3.653593e+10   0.00\n",
       "6075        India          IND  1961  3.870910e+10   5.95\n",
       "6076        India          IND  1962  4.159907e+10   7.47\n",
       "6077        India          IND  1963  4.777600e+10  14.85\n",
       "6078        India          IND  1964  5.572687e+10  16.64"
      ]
     },
     "execution_count": 76,
     "metadata": {},
     "output_type": "execute_result"
    }
   ],
   "source": [
    "df_temp.head()"
   ]
  },
  {
   "cell_type": "markdown",
   "id": "a3c3dcc3-0c20-4801-b303-e55787852c4a",
   "metadata": {},
   "source": [
    "# A Better Alternative with Pandas\n",
    "### Pandas provides pct_change(), which calculates the percentage change between consecutive rows—exactly what we need. Here’s an improved version:\n",
    "\n",
    "~~~\n",
    "df_temp['GDP'] = (df_temp['Value'].pct_change() * 100).fillna(0).round(2)\n",
    "~~~"
   ]
  },
  {
   "cell_type": "markdown",
   "id": "3462112c-56e7-4bbb-af89-6460cb37d2f4",
   "metadata": {},
   "source": [
    "### 3) Create a graph of GDP Growth of India from 1960 - 2016"
   ]
  },
  {
   "cell_type": "code",
   "execution_count": null,
   "id": "c2bc91e6-04a0-4205-b914-0ec35ba9c2d5",
   "metadata": {},
   "outputs": [],
   "source": [
    "df_temp.plot(kind='line',x='Year',y='Value',figsize=(15,6),grid=True,xlabel=\"Year\",ylabel=\"GDP\")"
   ]
  },
  {
   "cell_type": "code",
   "execution_count": null,
   "id": "dee0c627-8ff5-452e-b5f3-902a6fdf40a4",
   "metadata": {},
   "outputs": [],
   "source": []
  },
  {
   "cell_type": "markdown",
   "id": "b7023ae4",
   "metadata": {},
   "source": [
    "## 3) Whats the world GDP in 1969?"
   ]
  },
  {
   "cell_type": "code",
   "execution_count": null,
   "id": "41f5ba6a",
   "metadata": {},
   "outputs": [],
   "source": []
  },
  {
   "cell_type": "code",
   "execution_count": null,
   "id": "8770deb7",
   "metadata": {},
   "outputs": [],
   "source": []
  },
  {
   "cell_type": "markdown",
   "id": "9c848bca",
   "metadata": {},
   "source": [
    "# Tasks\n",
    "\n",
    "### 1) Find GDP Growth of India from 1960 - 2016\n",
    "### 2) Create a new columns named as GDP which shows the GDP growth of each country for that year\n",
    "### 3) Create a graph of GDP Growth of India from 1960 - 2016"
   ]
  },
  {
   "cell_type": "code",
   "execution_count": null,
   "id": "632f3251-64ec-44a5-bcb2-ac0dc303dd18",
   "metadata": {},
   "outputs": [],
   "source": []
  }
 ],
 "metadata": {
  "kernelspec": {
   "display_name": "Python 3 (ipykernel)",
   "language": "python",
   "name": "python3"
  },
  "language_info": {
   "codemirror_mode": {
    "name": "ipython",
    "version": 3
   },
   "file_extension": ".py",
   "mimetype": "text/x-python",
   "name": "python",
   "nbconvert_exporter": "python",
   "pygments_lexer": "ipython3",
   "version": "3.12.5"
  }
 },
 "nbformat": 4,
 "nbformat_minor": 5
}
